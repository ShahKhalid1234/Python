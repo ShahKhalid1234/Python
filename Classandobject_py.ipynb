{
  "nbformat": 4,
  "nbformat_minor": 0,
  "metadata": {
    "colab": {
      "provenance": [],
      "authorship_tag": "ABX9TyP/HXfHQs/mmu5Ix+FvqWMs",
      "include_colab_link": true
    },
    "kernelspec": {
      "name": "python3",
      "display_name": "Python 3"
    },
    "language_info": {
      "name": "python"
    }
  },
  "cells": [
    {
      "cell_type": "markdown",
      "metadata": {
        "id": "view-in-github",
        "colab_type": "text"
      },
      "source": [
        "<a href=\"https://colab.research.google.com/github/ShahKhalid1234/Python/blob/main/Classandobject_py.ipynb\" target=\"_parent\"><img src=\"https://colab.research.google.com/assets/colab-badge.svg\" alt=\"Open In Colab\"/></a>"
      ]
    },
    {
      "cell_type": "code",
      "execution_count": 14,
      "metadata": {
        "id": "LLAFqgCEUydj"
      },
      "outputs": [],
      "source": [
        "class Customer:\n",
        "    def __init__(self,name,age,address,contact):\n",
        "     self.customer=name\n",
        "     self.years=age\n",
        "     self.city=address\n",
        "     self.phn=contact\n",
        "\n",
        "    def greet(self):\n",
        "     print(\"Hello MR./MISS  \\n\",self.customer,\"\\nYour age is :\\n\",self.years,\"\\nYou live in :\\n\",self.city,\"\\nyour contact is:\\n\",self.phn)\n",
        "\n",
        "\n"
      ]
    },
    {
      "cell_type": "code",
      "source": [
        "c1=Customer('Khalid',24,'Anantnag',9087473662)\n",
        "c2=Customer('Ajaz',26,'Kokernag',9087476632)\n",
        "c3=Customer('Faheem',29,'Pulwama',90874732)\n",
        "c4=Customer('Suhail',25,'Awantipora',90874032)\n",
        "\n",
        "\n"
      ],
      "metadata": {
        "id": "bte2QZQ_ib-D"
      },
      "execution_count": 15,
      "outputs": []
    },
    {
      "cell_type": "code",
      "source": [
        "#accessing objects of  c1\n",
        "\n",
        "\n",
        "c1.greet()\n",
        "\n"
      ],
      "metadata": {
        "colab": {
          "base_uri": "https://localhost:8080/"
        },
        "id": "Q86M9PuvlmoW",
        "outputId": "740ed913-0d9f-4259-cc2f-ee05e1e548d9"
      },
      "execution_count": 28,
      "outputs": [
        {
          "output_type": "stream",
          "name": "stdout",
          "text": [
            "Hello MR./MISS  \n",
            " Khalid \n",
            "Your age is :\n",
            " 24 \n",
            "You live in :\n",
            " Anantnag \n",
            "your contact is:\n",
            " 9087473662\n"
          ]
        }
      ]
    },
    {
      "cell_type": "code",
      "source": [],
      "metadata": {
        "id": "gC1DETHd9LsA"
      },
      "execution_count": null,
      "outputs": []
    }
  ]
}