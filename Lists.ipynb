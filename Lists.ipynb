{
  "nbformat": 4,
  "nbformat_minor": 0,
  "metadata": {
    "colab": {
      "provenance": [],
      "authorship_tag": "ABX9TyNkZD66aIer0UyH+oH7stZt",
      "include_colab_link": true
    },
    "kernelspec": {
      "name": "python3",
      "display_name": "Python 3"
    },
    "language_info": {
      "name": "python"
    }
  },
  "cells": [
    {
      "cell_type": "markdown",
      "metadata": {
        "id": "view-in-github",
        "colab_type": "text"
      },
      "source": [
        "<a href=\"https://colab.research.google.com/github/ShahKhalid1234/Python/blob/main/Lists.ipynb\" target=\"_parent\"><img src=\"https://colab.research.google.com/assets/colab-badge.svg\" alt=\"Open In Colab\"/></a>"
      ]
    },
    {
      "cell_type": "markdown",
      "source": [
        "Python List is a data structure which is used to store various types of data.\n",
        "lists are mutable i.e., Python will modify list values and will not create a new list for this.\n",
        "Python lists are enclosed within the square braces '[]'.\n",
        "elements have proper index starting from 0."
      ],
      "metadata": {
        "id": "5DHL_70B991N"
      }
    },
    {
      "cell_type": "code",
      "source": [
        "#creating a list\n",
        "listname=['value1','value2',1]\n",
        "\n",
        "print(listname)"
      ],
      "metadata": {
        "colab": {
          "base_uri": "https://localhost:8080/"
        },
        "id": "F79FujN4_BNf",
        "outputId": "cc2cef9f-bf87-4899-e70c-cbe6a4b4108c"
      },
      "execution_count": 1,
      "outputs": [
        {
          "output_type": "stream",
          "name": "stdout",
          "text": [
            "['value1', 'value2', 1]\n"
          ]
        }
      ]
    },
    {
      "cell_type": "code",
      "source": [
        "student=['khalid',1,'iust',['computerscience']]\n",
        "print(student)"
      ],
      "metadata": {
        "colab": {
          "base_uri": "https://localhost:8080/"
        },
        "id": "Av3F55D4_tNS",
        "outputId": "6bbab1cf-0bac-4712-b380-976c0a2415d1"
      },
      "execution_count": 2,
      "outputs": [
        {
          "output_type": "stream",
          "name": "stdout",
          "text": [
            "['khalid', 1, 'iust', ['computerscience']]\n"
          ]
        }
      ]
    },
    {
      "cell_type": "code",
      "source": [
        "#adding values at end using append\n",
        "student.append((\"sem\",2))\n",
        "print(student)"
      ],
      "metadata": {
        "colab": {
          "base_uri": "https://localhost:8080/"
        },
        "id": "JcIGu7QoAGgZ",
        "outputId": "53f0ba5c-a6ef-4222-a078-375ad5432bbc"
      },
      "execution_count": 3,
      "outputs": [
        {
          "output_type": "stream",
          "name": "stdout",
          "text": [
            "['khalid', 1, 'iust', ['computerscience'], ('sem', 2)]\n"
          ]
        }
      ]
    },
    {
      "cell_type": "code",
      "source": [
        "#inserting at specific index\n",
        "student.insert(2,'python')\n",
        "print(student)"
      ],
      "metadata": {
        "colab": {
          "base_uri": "https://localhost:8080/"
        },
        "id": "0v7jHDJ5AZ-H",
        "outputId": "280fbcc9-664f-4c05-852e-ff48876d8509"
      },
      "execution_count": 9,
      "outputs": [
        {
          "output_type": "stream",
          "name": "stdout",
          "text": [
            "['khalid', 1, 'python', ('course', 'python'), ('course', 'python'), 'iust', ['computerscience'], ('sem', 2)]\n"
          ]
        }
      ]
    },
    {
      "cell_type": "code",
      "source": [
        "student.remove(('course','python')) #removes item\n",
        "print(student)"
      ],
      "metadata": {
        "colab": {
          "base_uri": "https://localhost:8080/"
        },
        "id": "ODdqWAtiA0wm",
        "outputId": "1d95e609-2dc8-4a79-982e-35a4d669520b"
      },
      "execution_count": 10,
      "outputs": [
        {
          "output_type": "stream",
          "name": "stdout",
          "text": [
            "['khalid', 1, 'python', ('course', 'python'), 'iust', ['computerscience'], ('sem', 2)]\n"
          ]
        }
      ]
    },
    {
      "cell_type": "code",
      "source": [
        "student.reverse()  #reverse the values stored\n",
        "print(student)"
      ],
      "metadata": {
        "colab": {
          "base_uri": "https://localhost:8080/"
        },
        "id": "-v2YssuaBXNE",
        "outputId": "aca7ad3f-e450-4439-c1c7-ba7722ff659c"
      },
      "execution_count": 18,
      "outputs": [
        {
          "output_type": "stream",
          "name": "stdout",
          "text": [
            "[('sem', 2), ['computerscience'], 'iust', ('course', 'python'), 'python', 1, 'khalid']\n"
          ]
        }
      ]
    },
    {
      "cell_type": "code",
      "source": [
        "student.index('iust')\n"
      ],
      "metadata": {
        "colab": {
          "base_uri": "https://localhost:8080/"
        },
        "id": "khm3VaBQBdKJ",
        "outputId": "39f0b33e-4c60-48c3-8cbe-5c3efc4527bc"
      },
      "execution_count": 19,
      "outputs": [
        {
          "output_type": "execute_result",
          "data": {
            "text/plain": [
              "2"
            ]
          },
          "metadata": {},
          "execution_count": 19
        }
      ]
    },
    {
      "cell_type": "code",
      "source": [
        "student.pop(-2)\n"
      ],
      "metadata": {
        "colab": {
          "base_uri": "https://localhost:8080/"
        },
        "id": "-kbn6zGCCUED",
        "outputId": "926a04fd-6916-4d60-fd3c-373d177cc3a6"
      },
      "execution_count": 21,
      "outputs": [
        {
          "output_type": "execute_result",
          "data": {
            "text/plain": [
              "1"
            ]
          },
          "metadata": {},
          "execution_count": 21
        }
      ]
    },
    {
      "cell_type": "code",
      "source": [
        "print(student)"
      ],
      "metadata": {
        "colab": {
          "base_uri": "https://localhost:8080/"
        },
        "id": "JAm_Rt-1CZHW",
        "outputId": "d89d6d0c-c5c6-46de-e408-dc3d32eb65e5"
      },
      "execution_count": 22,
      "outputs": [
        {
          "output_type": "stream",
          "name": "stdout",
          "text": [
            "[('sem', 2), ['computerscience'], 'iust', ('course', 'python'), 'python', 'khalid']\n"
          ]
        }
      ]
    },
    {
      "cell_type": "code",
      "source": [],
      "metadata": {
        "id": "0Dp19OcBCnWO"
      },
      "execution_count": null,
      "outputs": []
    }
  ]
}