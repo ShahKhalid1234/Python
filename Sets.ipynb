{
  "nbformat": 4,
  "nbformat_minor": 0,
  "metadata": {
    "colab": {
      "provenance": [],
      "authorship_tag": "ABX9TyPvHUSmVcHg4Q7YHfsAnV/L",
      "include_colab_link": true
    },
    "kernelspec": {
      "name": "python3",
      "display_name": "Python 3"
    },
    "language_info": {
      "name": "python"
    }
  },
  "cells": [
    {
      "cell_type": "markdown",
      "metadata": {
        "id": "view-in-github",
        "colab_type": "text"
      },
      "source": [
        "<a href=\"https://colab.research.google.com/github/ShahKhalid1234/Python/blob/main/Sets.ipynb\" target=\"_parent\"><img src=\"https://colab.research.google.com/assets/colab-badge.svg\" alt=\"Open In Colab\"/></a>"
      ]
    },
    {
      "cell_type": "markdown",
      "source": [
        "SETS:\n",
        "It is an unordered collection of unique items\n",
        ""
      ],
      "metadata": {
        "id": "eB7_pyl1Iyv2"
      }
    },
    {
      "cell_type": "code",
      "source": [
        "#Create a Set\n",
        "Planets={'mercury','venus','earth','mars','jupiter'}\n",
        "print(Planets)"
      ],
      "metadata": {
        "colab": {
          "base_uri": "https://localhost:8080/"
        },
        "id": "JGHTiTpeJHNF",
        "outputId": "81c3a912-61a4-410f-9288-67530ec0a147"
      },
      "execution_count": 2,
      "outputs": [
        {
          "output_type": "stream",
          "name": "stdout",
          "text": [
            "{'earth', 'jupiter', 'mars', 'venus', 'mercury'}\n"
          ]
        }
      ]
    },
    {
      "cell_type": "code",
      "source": [
        "Planets2={'earth','mars'}\n",
        "print(Planets2)\n"
      ],
      "metadata": {
        "colab": {
          "base_uri": "https://localhost:8080/"
        },
        "id": "frb75_D1Jji2",
        "outputId": "b484e1da-a5d0-40e2-8df3-d909329074cf"
      },
      "execution_count": 4,
      "outputs": [
        {
          "output_type": "stream",
          "name": "stdout",
          "text": [
            "{'mars', 'earth'}\n"
          ]
        }
      ]
    },
    {
      "cell_type": "code",
      "source": [
        "#operations\n",
        "print(Planets.union(Planets2))                  #Union of sets\n",
        "print(Planets.intersection(Planets2))           #intersection of sets\n",
        "Planets.add('saturn')                           #adding a member to set\n",
        "print(Planets)\n",
        "Planets.remove('jupiter')                       #remove a member from set\n",
        "print(Planets)\n"
      ],
      "metadata": {
        "colab": {
          "base_uri": "https://localhost:8080/"
        },
        "id": "FGNcUXgeJ7G4",
        "outputId": "bdc211d4-aee7-48d9-d2c7-7cf9f3970678"
      },
      "execution_count": 10,
      "outputs": [
        {
          "output_type": "stream",
          "name": "stdout",
          "text": [
            "{'saturn', 'earth', 'jupiter', 'mars', 'venus', 'mercury'}\n",
            "{'mars', 'earth'}\n",
            "{'saturn', 'earth', 'jupiter', 'mars', 'venus', 'mercury'}\n",
            "{'saturn', 'earth', 'mars', 'venus', 'mercury'}\n"
          ]
        }
      ]
    },
    {
      "cell_type": "code",
      "source": [
        "set1={2,4,6,8}\n",
        "set2={3,6,9}\n",
        "print(set1)\n",
        "print(set2)\n",
        "\n",
        "set1.add(12)\n",
        "set2.add(12)\n",
        "print(set1)\n",
        "print(set2)\n",
        "print(set1.union(set2))\n",
        "print(set1.intersection(set2))\n",
        "set1.remove(12)\n",
        "set2.remove(12)\n",
        "print(set1.intersection(set2))"
      ],
      "metadata": {
        "colab": {
          "base_uri": "https://localhost:8080/"
        },
        "id": "mRdieMGHKKRi",
        "outputId": "74574ae5-2229-4ed8-8ca2-09226d63198a"
      },
      "execution_count": 15,
      "outputs": [
        {
          "output_type": "stream",
          "name": "stdout",
          "text": [
            "{8, 2, 4, 6}\n",
            "{9, 3, 6}\n",
            "{2, 4, 6, 8, 12}\n",
            "{9, 3, 12, 6}\n",
            "{2, 3, 4, 6, 8, 9, 12}\n",
            "{12, 6}\n",
            "{6}\n"
          ]
        }
      ]
    },
    {
      "cell_type": "code",
      "source": [],
      "metadata": {
        "id": "u00iqZvZMZGa"
      },
      "execution_count": null,
      "outputs": []
    }
  ]
}