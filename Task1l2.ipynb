{
  "nbformat": 4,
  "nbformat_minor": 0,
  "metadata": {
    "colab": {
      "provenance": [],
      "authorship_tag": "ABX9TyOXZVmFjXA9P44E19/skNq+",
      "include_colab_link": true
    },
    "kernelspec": {
      "name": "python3",
      "display_name": "Python 3"
    },
    "language_info": {
      "name": "python"
    }
  },
  "cells": [
    {
      "cell_type": "markdown",
      "metadata": {
        "id": "view-in-github",
        "colab_type": "text"
      },
      "source": [
        "<a href=\"https://colab.research.google.com/github/ShahKhalid1234/Python/blob/main/Task1l2.ipynb\" target=\"_parent\"><img src=\"https://colab.research.google.com/assets/colab-badge.svg\" alt=\"Open In Colab\"/></a>"
      ]
    },
    {
      "cell_type": "markdown",
      "source": [
        "# ***Descriptive Analysis***"
      ],
      "metadata": {
        "id": "YcZ1itodSv9z"
      }
    },
    {
      "cell_type": "code",
      "source": [
        "from google.colab import files\n",
        "uploaded = files.upload()"
      ],
      "metadata": {
        "id": "ytVUdJnlTGER",
        "colab": {
          "base_uri": "https://localhost:8080/",
          "height": 74
        },
        "outputId": "26462dbd-dbfe-427b-823f-c35b922cf05f"
      },
      "execution_count": 1,
      "outputs": [
        {
          "output_type": "display_data",
          "data": {
            "text/plain": [
              "<IPython.core.display.HTML object>"
            ],
            "text/html": [
              "\n",
              "     <input type=\"file\" id=\"files-346a4799-e9b0-4f44-9d34-239b4562b596\" name=\"files[]\" multiple disabled\n",
              "        style=\"border:none\" />\n",
              "     <output id=\"result-346a4799-e9b0-4f44-9d34-239b4562b596\">\n",
              "      Upload widget is only available when the cell has been executed in the\n",
              "      current browser session. Please rerun this cell to enable.\n",
              "      </output>\n",
              "      <script>// Copyright 2017 Google LLC\n",
              "//\n",
              "// Licensed under the Apache License, Version 2.0 (the \"License\");\n",
              "// you may not use this file except in compliance with the License.\n",
              "// You may obtain a copy of the License at\n",
              "//\n",
              "//      http://www.apache.org/licenses/LICENSE-2.0\n",
              "//\n",
              "// Unless required by applicable law or agreed to in writing, software\n",
              "// distributed under the License is distributed on an \"AS IS\" BASIS,\n",
              "// WITHOUT WARRANTIES OR CONDITIONS OF ANY KIND, either express or implied.\n",
              "// See the License for the specific language governing permissions and\n",
              "// limitations under the License.\n",
              "\n",
              "/**\n",
              " * @fileoverview Helpers for google.colab Python module.\n",
              " */\n",
              "(function(scope) {\n",
              "function span(text, styleAttributes = {}) {\n",
              "  const element = document.createElement('span');\n",
              "  element.textContent = text;\n",
              "  for (const key of Object.keys(styleAttributes)) {\n",
              "    element.style[key] = styleAttributes[key];\n",
              "  }\n",
              "  return element;\n",
              "}\n",
              "\n",
              "// Max number of bytes which will be uploaded at a time.\n",
              "const MAX_PAYLOAD_SIZE = 100 * 1024;\n",
              "\n",
              "function _uploadFiles(inputId, outputId) {\n",
              "  const steps = uploadFilesStep(inputId, outputId);\n",
              "  const outputElement = document.getElementById(outputId);\n",
              "  // Cache steps on the outputElement to make it available for the next call\n",
              "  // to uploadFilesContinue from Python.\n",
              "  outputElement.steps = steps;\n",
              "\n",
              "  return _uploadFilesContinue(outputId);\n",
              "}\n",
              "\n",
              "// This is roughly an async generator (not supported in the browser yet),\n",
              "// where there are multiple asynchronous steps and the Python side is going\n",
              "// to poll for completion of each step.\n",
              "// This uses a Promise to block the python side on completion of each step,\n",
              "// then passes the result of the previous step as the input to the next step.\n",
              "function _uploadFilesContinue(outputId) {\n",
              "  const outputElement = document.getElementById(outputId);\n",
              "  const steps = outputElement.steps;\n",
              "\n",
              "  const next = steps.next(outputElement.lastPromiseValue);\n",
              "  return Promise.resolve(next.value.promise).then((value) => {\n",
              "    // Cache the last promise value to make it available to the next\n",
              "    // step of the generator.\n",
              "    outputElement.lastPromiseValue = value;\n",
              "    return next.value.response;\n",
              "  });\n",
              "}\n",
              "\n",
              "/**\n",
              " * Generator function which is called between each async step of the upload\n",
              " * process.\n",
              " * @param {string} inputId Element ID of the input file picker element.\n",
              " * @param {string} outputId Element ID of the output display.\n",
              " * @return {!Iterable<!Object>} Iterable of next steps.\n",
              " */\n",
              "function* uploadFilesStep(inputId, outputId) {\n",
              "  const inputElement = document.getElementById(inputId);\n",
              "  inputElement.disabled = false;\n",
              "\n",
              "  const outputElement = document.getElementById(outputId);\n",
              "  outputElement.innerHTML = '';\n",
              "\n",
              "  const pickedPromise = new Promise((resolve) => {\n",
              "    inputElement.addEventListener('change', (e) => {\n",
              "      resolve(e.target.files);\n",
              "    });\n",
              "  });\n",
              "\n",
              "  const cancel = document.createElement('button');\n",
              "  inputElement.parentElement.appendChild(cancel);\n",
              "  cancel.textContent = 'Cancel upload';\n",
              "  const cancelPromise = new Promise((resolve) => {\n",
              "    cancel.onclick = () => {\n",
              "      resolve(null);\n",
              "    };\n",
              "  });\n",
              "\n",
              "  // Wait for the user to pick the files.\n",
              "  const files = yield {\n",
              "    promise: Promise.race([pickedPromise, cancelPromise]),\n",
              "    response: {\n",
              "      action: 'starting',\n",
              "    }\n",
              "  };\n",
              "\n",
              "  cancel.remove();\n",
              "\n",
              "  // Disable the input element since further picks are not allowed.\n",
              "  inputElement.disabled = true;\n",
              "\n",
              "  if (!files) {\n",
              "    return {\n",
              "      response: {\n",
              "        action: 'complete',\n",
              "      }\n",
              "    };\n",
              "  }\n",
              "\n",
              "  for (const file of files) {\n",
              "    const li = document.createElement('li');\n",
              "    li.append(span(file.name, {fontWeight: 'bold'}));\n",
              "    li.append(span(\n",
              "        `(${file.type || 'n/a'}) - ${file.size} bytes, ` +\n",
              "        `last modified: ${\n",
              "            file.lastModifiedDate ? file.lastModifiedDate.toLocaleDateString() :\n",
              "                                    'n/a'} - `));\n",
              "    const percent = span('0% done');\n",
              "    li.appendChild(percent);\n",
              "\n",
              "    outputElement.appendChild(li);\n",
              "\n",
              "    const fileDataPromise = new Promise((resolve) => {\n",
              "      const reader = new FileReader();\n",
              "      reader.onload = (e) => {\n",
              "        resolve(e.target.result);\n",
              "      };\n",
              "      reader.readAsArrayBuffer(file);\n",
              "    });\n",
              "    // Wait for the data to be ready.\n",
              "    let fileData = yield {\n",
              "      promise: fileDataPromise,\n",
              "      response: {\n",
              "        action: 'continue',\n",
              "      }\n",
              "    };\n",
              "\n",
              "    // Use a chunked sending to avoid message size limits. See b/62115660.\n",
              "    let position = 0;\n",
              "    do {\n",
              "      const length = Math.min(fileData.byteLength - position, MAX_PAYLOAD_SIZE);\n",
              "      const chunk = new Uint8Array(fileData, position, length);\n",
              "      position += length;\n",
              "\n",
              "      const base64 = btoa(String.fromCharCode.apply(null, chunk));\n",
              "      yield {\n",
              "        response: {\n",
              "          action: 'append',\n",
              "          file: file.name,\n",
              "          data: base64,\n",
              "        },\n",
              "      };\n",
              "\n",
              "      let percentDone = fileData.byteLength === 0 ?\n",
              "          100 :\n",
              "          Math.round((position / fileData.byteLength) * 100);\n",
              "      percent.textContent = `${percentDone}% done`;\n",
              "\n",
              "    } while (position < fileData.byteLength);\n",
              "  }\n",
              "\n",
              "  // All done.\n",
              "  yield {\n",
              "    response: {\n",
              "      action: 'complete',\n",
              "    }\n",
              "  };\n",
              "}\n",
              "\n",
              "scope.google = scope.google || {};\n",
              "scope.google.colab = scope.google.colab || {};\n",
              "scope.google.colab._files = {\n",
              "  _uploadFiles,\n",
              "  _uploadFilesContinue,\n",
              "};\n",
              "})(self);\n",
              "</script> "
            ]
          },
          "metadata": {}
        },
        {
          "output_type": "stream",
          "name": "stdout",
          "text": [
            "Saving Dataset .csv to Dataset .csv\n"
          ]
        }
      ]
    },
    {
      "cell_type": "code",
      "source": [
        "import pandas as pd\n",
        "df=pd.read_csv('Dataset .csv')"
      ],
      "metadata": {
        "id": "CY6erqKBVohD"
      },
      "execution_count": 2,
      "outputs": []
    },
    {
      "cell_type": "code",
      "source": [
        "# Use describe() to get basic statistics for numerical columns\n",
        "statistics = df.describe()\n",
        "\n",
        "# Extract specific statistics like mean, median, and standard deviation\n",
        "mean_values = df.mean()\n",
        "median_values = df.median()\n",
        "std_dev_values = df.std()\n",
        "\n",
        "# Print or use the statistics as needed\n",
        "#print(\"Descriptive Statistics:\")\n",
        "#print(statistics)\n",
        "\n",
        "print(\"\\nMean Values:\")\n",
        "print(mean_values)\n",
        "\n",
        "print(\"\\nMedian Values:\")\n",
        "print(median_values)\n",
        "\n",
        "print(\"\\nStandard Deviation Values:\")\n",
        "print(std_dev_values)"
      ],
      "metadata": {
        "colab": {
          "base_uri": "https://localhost:8080/"
        },
        "id": "SZPMogXmV8xm",
        "outputId": "e273b0fe-06e6-4f63-b215-c0262b695066"
      },
      "execution_count": 9,
      "outputs": [
        {
          "output_type": "stream",
          "name": "stdout",
          "text": [
            "\n",
            "Mean Values:\n",
            "Restaurant ID           9.051128e+06\n",
            "Country Code            1.836562e+01\n",
            "Longitude               6.412657e+01\n",
            "Latitude                2.585438e+01\n",
            "Average Cost for two    1.199211e+03\n",
            "Price range             1.804837e+00\n",
            "Aggregate rating        2.666370e+00\n",
            "Votes                   1.569097e+02\n",
            "dtype: float64\n",
            "\n",
            "Median Values:\n",
            "Restaurant ID           6.004089e+06\n",
            "Country Code            1.000000e+00\n",
            "Longitude               7.719196e+01\n",
            "Latitude                2.857047e+01\n",
            "Average Cost for two    4.000000e+02\n",
            "Price range             2.000000e+00\n",
            "Aggregate rating        3.200000e+00\n",
            "Votes                   3.100000e+01\n",
            "dtype: float64\n",
            "\n",
            "Standard Deviation Values:\n",
            "Restaurant ID           8.791521e+06\n",
            "Country Code            5.675055e+01\n",
            "Longitude               4.146706e+01\n",
            "Latitude                1.100794e+01\n",
            "Average Cost for two    1.612118e+04\n",
            "Price range             9.056088e-01\n",
            "Aggregate rating        1.516378e+00\n",
            "Votes                   4.301691e+02\n",
            "dtype: float64\n"
          ]
        },
        {
          "output_type": "stream",
          "name": "stderr",
          "text": [
            "<ipython-input-9-29efc7d3d741>:5: FutureWarning: The default value of numeric_only in DataFrame.mean is deprecated. In a future version, it will default to False. In addition, specifying 'numeric_only=None' is deprecated. Select only valid columns or specify the value of numeric_only to silence this warning.\n",
            "  mean_values = df.mean()\n",
            "<ipython-input-9-29efc7d3d741>:6: FutureWarning: The default value of numeric_only in DataFrame.median is deprecated. In a future version, it will default to False. In addition, specifying 'numeric_only=None' is deprecated. Select only valid columns or specify the value of numeric_only to silence this warning.\n",
            "  median_values = df.median()\n",
            "<ipython-input-9-29efc7d3d741>:7: FutureWarning: The default value of numeric_only in DataFrame.std is deprecated. In a future version, it will default to False. In addition, specifying 'numeric_only=None' is deprecated. Select only valid columns or specify the value of numeric_only to silence this warning.\n",
            "  std_dev_values = df.std()\n"
          ]
        }
      ]
    },
    {
      "cell_type": "code",
      "source": [
        "# Create a DataFrame for the output\n",
        "output_df = pd.DataFrame({\n",
        "    'Mean': df.mean(),\n",
        "    'Median': df.median(),\n",
        "    'Standard Deviation': df.std(),\n",
        "    'Minimum': df.min(),\n",
        "    'Maximum': df.max()\n",
        "})\n",
        "\n",
        "# Display the DataFrame\n",
        "print(\"Basic Statistics for Numerical Columns:\")\n",
        "print(output_df)"
      ],
      "metadata": {
        "colab": {
          "base_uri": "https://localhost:8080/"
        },
        "id": "UKJK4m2-WM3a",
        "outputId": "15e255e7-782b-4cf5-affb-6504a02b15be"
      },
      "execution_count": 4,
      "outputs": [
        {
          "output_type": "stream",
          "name": "stdout",
          "text": [
            "Basic Statistics for Numerical Columns:\n",
            "                              Mean        Median  Standard Deviation  \\\n",
            "Address                        NaN           NaN                 NaN   \n",
            "Aggregate rating      2.666370e+00  3.200000e+00        1.516378e+00   \n",
            "Average Cost for two  1.199211e+03  4.000000e+02        1.612118e+04   \n",
            "City                           NaN           NaN                 NaN   \n",
            "Country Code          1.836562e+01  1.000000e+00        5.675055e+01   \n",
            "Currency                       NaN           NaN                 NaN   \n",
            "Has Online delivery            NaN           NaN                 NaN   \n",
            "Has Table booking              NaN           NaN                 NaN   \n",
            "Is delivering now              NaN           NaN                 NaN   \n",
            "Latitude              2.585438e+01  2.857047e+01        1.100794e+01   \n",
            "Locality                       NaN           NaN                 NaN   \n",
            "Locality Verbose               NaN           NaN                 NaN   \n",
            "Longitude             6.412657e+01  7.719196e+01        4.146706e+01   \n",
            "Price range           1.804837e+00  2.000000e+00        9.056088e-01   \n",
            "Rating color                   NaN           NaN                 NaN   \n",
            "Rating text                    NaN           NaN                 NaN   \n",
            "Restaurant ID         9.051128e+06  6.004089e+06        8.791521e+06   \n",
            "Restaurant Name                NaN           NaN                 NaN   \n",
            "Switch to order menu           NaN           NaN                 NaN   \n",
            "Votes                 1.569097e+02  3.100000e+01        4.301691e+02   \n",
            "\n",
            "                                                                Minimum  \\\n",
            "Address               1 & 2, Block A-5 B, DDA Market, Paschim Vihar,...   \n",
            "Aggregate rating                                                    0.0   \n",
            "Average Cost for two                                                  0   \n",
            "City                                                          Abu Dhabi   \n",
            "Country Code                                                          1   \n",
            "Currency                                               Botswana Pula(P)   \n",
            "Has Online delivery                                                  No   \n",
            "Has Table booking                                                    No   \n",
            "Is delivering now                                                    No   \n",
            "Latitude                                                     -41.330428   \n",
            "Locality                              ILD Trade Centre Mall, Sohna Road   \n",
            "Locality Verbose             ILD Trade Centre Mall, Sohna Road, Gurgaon   \n",
            "Longitude                                                   -157.948486   \n",
            "Price range                                                           1   \n",
            "Rating color                                                 Dark Green   \n",
            "Rating text                                                     Average   \n",
            "Restaurant ID                                                        53   \n",
            "Restaurant Name                                                     #45   \n",
            "Switch to order menu                                                 No   \n",
            "Votes                                                                 0   \n",
            "\n",
            "                                                                Maximum  \n",
            "Address               ��mitk�_y Mahallesi, 2432. Cadde (8. Cadde), N...  \n",
            "Aggregate rating                                                    4.9  \n",
            "Average Cost for two                                             800000  \n",
            "City                                                          ��stanbul  \n",
            "Country Code                                                        216  \n",
            "Currency                                               Turkish Lira(TL)  \n",
            "Has Online delivery                                                 Yes  \n",
            "Has Table booking                                                   Yes  \n",
            "Is delivering now                                                   Yes  \n",
            "Latitude                                                       55.97698  \n",
            "Locality                                                      ��mitk�_y  \n",
            "Locality Verbose                                      ��mitk�_y, Ankara  \n",
            "Longitude                                                    174.832089  \n",
            "Price range                                                           4  \n",
            "Rating color                                                     Yellow  \n",
            "Rating text                                                   Very Good  \n",
            "Restaurant ID                                                  18500652  \n",
            "Restaurant Name                                       �ukura��a Sofras۱  \n",
            "Switch to order menu                                                 No  \n",
            "Votes                                                             10934  \n"
          ]
        },
        {
          "output_type": "stream",
          "name": "stderr",
          "text": [
            "<ipython-input-4-757d808aa3d7>:3: FutureWarning: The default value of numeric_only in DataFrame.mean is deprecated. In a future version, it will default to False. In addition, specifying 'numeric_only=None' is deprecated. Select only valid columns or specify the value of numeric_only to silence this warning.\n",
            "  'Mean': df.mean(),\n",
            "<ipython-input-4-757d808aa3d7>:4: FutureWarning: The default value of numeric_only in DataFrame.median is deprecated. In a future version, it will default to False. In addition, specifying 'numeric_only=None' is deprecated. Select only valid columns or specify the value of numeric_only to silence this warning.\n",
            "  'Median': df.median(),\n",
            "<ipython-input-4-757d808aa3d7>:5: FutureWarning: The default value of numeric_only in DataFrame.std is deprecated. In a future version, it will default to False. In addition, specifying 'numeric_only=None' is deprecated. Select only valid columns or specify the value of numeric_only to silence this warning.\n",
            "  'Standard Deviation': df.std(),\n",
            "<ipython-input-4-757d808aa3d7>:6: FutureWarning: The default value of numeric_only in DataFrame.min is deprecated. In a future version, it will default to False. In addition, specifying 'numeric_only=None' is deprecated. Select only valid columns or specify the value of numeric_only to silence this warning.\n",
            "  'Minimum': df.min(),\n",
            "<ipython-input-4-757d808aa3d7>:7: FutureWarning: The default value of numeric_only in DataFrame.max is deprecated. In a future version, it will default to False. In addition, specifying 'numeric_only=None' is deprecated. Select only valid columns or specify the value of numeric_only to silence this warning.\n",
            "  'Maximum': df.max()\n"
          ]
        }
      ]
    },
    {
      "cell_type": "code",
      "source": [
        "# Save the DataFrame to a CSV file\n",
        "output_df.to_csv('output_statistics.csv', index=False)\n"
      ],
      "metadata": {
        "id": "q5Nx5t7EXzma"
      },
      "execution_count": 7,
      "outputs": []
    },
    {
      "cell_type": "code",
      "source": [
        "files.download('output_statistics.csv')"
      ],
      "metadata": {
        "colab": {
          "base_uri": "https://localhost:8080/",
          "height": 17
        },
        "id": "QaSxUek9X20y",
        "outputId": "aba31386-293c-4be7-b9d6-6999aee770bb"
      },
      "execution_count": 8,
      "outputs": [
        {
          "output_type": "display_data",
          "data": {
            "text/plain": [
              "<IPython.core.display.Javascript object>"
            ],
            "application/javascript": [
              "\n",
              "    async function download(id, filename, size) {\n",
              "      if (!google.colab.kernel.accessAllowed) {\n",
              "        return;\n",
              "      }\n",
              "      const div = document.createElement('div');\n",
              "      const label = document.createElement('label');\n",
              "      label.textContent = `Downloading \"${filename}\": `;\n",
              "      div.appendChild(label);\n",
              "      const progress = document.createElement('progress');\n",
              "      progress.max = size;\n",
              "      div.appendChild(progress);\n",
              "      document.body.appendChild(div);\n",
              "\n",
              "      const buffers = [];\n",
              "      let downloaded = 0;\n",
              "\n",
              "      const channel = await google.colab.kernel.comms.open(id);\n",
              "      // Send a message to notify the kernel that we're ready.\n",
              "      channel.send({})\n",
              "\n",
              "      for await (const message of channel.messages) {\n",
              "        // Send a message to notify the kernel that we're ready.\n",
              "        channel.send({})\n",
              "        if (message.buffers) {\n",
              "          for (const buffer of message.buffers) {\n",
              "            buffers.push(buffer);\n",
              "            downloaded += buffer.byteLength;\n",
              "            progress.value = downloaded;\n",
              "          }\n",
              "        }\n",
              "      }\n",
              "      const blob = new Blob(buffers, {type: 'application/binary'});\n",
              "      const a = document.createElement('a');\n",
              "      a.href = window.URL.createObjectURL(blob);\n",
              "      a.download = filename;\n",
              "      div.appendChild(a);\n",
              "      a.click();\n",
              "      div.remove();\n",
              "    }\n",
              "  "
            ]
          },
          "metadata": {}
        },
        {
          "output_type": "display_data",
          "data": {
            "text/plain": [
              "<IPython.core.display.Javascript object>"
            ],
            "application/javascript": [
              "download(\"download_f42d35c6-ebf4-4af6-bbb5-c8945ca8f263\", \"output_statistics.csv\", 935)"
            ]
          },
          "metadata": {}
        }
      ]
    }
  ]
}