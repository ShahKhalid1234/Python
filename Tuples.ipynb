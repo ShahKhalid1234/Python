{
  "nbformat": 4,
  "nbformat_minor": 0,
  "metadata": {
    "colab": {
      "provenance": [],
      "authorship_tag": "ABX9TyMuPTdAJqzCpGtdGkq6HNDG",
      "include_colab_link": true
    },
    "kernelspec": {
      "name": "python3",
      "display_name": "Python 3"
    },
    "language_info": {
      "name": "python"
    }
  },
  "cells": [
    {
      "cell_type": "markdown",
      "metadata": {
        "id": "view-in-github",
        "colab_type": "text"
      },
      "source": [
        "<a href=\"https://colab.research.google.com/github/ShahKhalid1234/Python/blob/main/Tuples.ipynb\" target=\"_parent\"><img src=\"https://colab.research.google.com/assets/colab-badge.svg\" alt=\"Open In Colab\"/></a>"
      ]
    },
    {
      "cell_type": "markdown",
      "source": [
        "Tuple is an ordered immutable collection of items of different data types.\n",
        "created using braces()\n",
        "\n",
        "Create a Tuple:\n",
        "syntax:\n",
        "  \n",
        "  tuplename=('value','value2','value3')\n",
        "  tuplename=\"value\",\"value2\",integervalue\n",
        "  tuplename=(1,2,4,['a','b'],('z',6))\n",
        "  \n",
        "\n",
        "Access:\n",
        "\n",
        "  tuplename[index]\n",
        " tuplename[index:index]\n",
        "\n",
        "\n",
        "Functions:\n",
        "\n",
        "\n",
        "  len(tuplename)  \n",
        "  #no of items in tuple\n",
        "\n",
        "  tuplename.count(tupleitem)\n",
        "   #counts particular item\n",
        "\n",
        "  tuplename.index(tupleitem)\n",
        "  #gives index of particular item"
      ],
      "metadata": {
        "id": "JIp3j8xVCRUf"
      }
    },
    {
      "cell_type": "code",
      "source": [
        "cr=('Khalid',1,[2,'MIT'],'Python')\n",
        "print(cr)\n"
      ],
      "metadata": {
        "colab": {
          "base_uri": "https://localhost:8080/"
        },
        "id": "YB8mO-kfEBtY",
        "outputId": "a9e78502-c200-43c0-ad65-ea3dd2981e94"
      },
      "execution_count": 3,
      "outputs": [
        {
          "output_type": "stream",
          "name": "stdout",
          "text": [
            "('Khalid', 1, [2, 'MIT'], 'Python')\n"
          ]
        }
      ]
    },
    {
      "cell_type": "code",
      "source": [
        "print(cr[1:5])            #print particular indices"
      ],
      "metadata": {
        "colab": {
          "base_uri": "https://localhost:8080/"
        },
        "id": "La8El34vCNTV",
        "outputId": "a2057cb4-d148-4d6b-c0dd-809548cc6066"
      },
      "execution_count": 4,
      "outputs": [
        {
          "output_type": "stream",
          "name": "stdout",
          "text": [
            "(1, [2, 'MIT'], 'Python')\n"
          ]
        }
      ]
    },
    {
      "cell_type": "code",
      "source": [
        "print(len(cr))           #gets no.of items from tuple considers whole tuple as well as list as single item"
      ],
      "metadata": {
        "colab": {
          "base_uri": "https://localhost:8080/"
        },
        "id": "Z8Q1XDH6GEXn",
        "outputId": "bfd13406-8bf5-478c-e16e-7807199a76db"
      },
      "execution_count": 5,
      "outputs": [
        {
          "output_type": "stream",
          "name": "stdout",
          "text": [
            "4\n"
          ]
        }
      ]
    },
    {
      "cell_type": "code",
      "source": [
        "print(cr.count('Khalid')) #counts presence of item in tuple\n"
      ],
      "metadata": {
        "colab": {
          "base_uri": "https://localhost:8080/"
        },
        "id": "VLRr8pR5GW-6",
        "outputId": "0a392208-503a-48ed-8729-d5bf86d97080"
      },
      "execution_count": 8,
      "outputs": [
        {
          "output_type": "stream",
          "name": "stdout",
          "text": [
            "1\n"
          ]
        }
      ]
    },
    {
      "cell_type": "code",
      "source": [
        "print(cr.index('Python')) #gives index of item within a tuple"
      ],
      "metadata": {
        "colab": {
          "base_uri": "https://localhost:8080/"
        },
        "id": "rlBYQ8x4G5ed",
        "outputId": "119ef525-a737-41aa-9428-e7605da27dbb"
      },
      "execution_count": 9,
      "outputs": [
        {
          "output_type": "stream",
          "name": "stdout",
          "text": [
            "3\n"
          ]
        }
      ]
    },
    {
      "cell_type": "code",
      "source": [],
      "metadata": {
        "id": "kJIjl-MuHS7t"
      },
      "execution_count": null,
      "outputs": []
    }
  ]
}