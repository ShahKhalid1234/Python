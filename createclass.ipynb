{
  "nbformat": 4,
  "nbformat_minor": 0,
  "metadata": {
    "colab": {
      "provenance": [],
      "authorship_tag": "ABX9TyPsreMt1seySalHuEC3WgBy",
      "include_colab_link": true
    },
    "kernelspec": {
      "name": "python3",
      "display_name": "Python 3"
    },
    "language_info": {
      "name": "python"
    }
  },
  "cells": [
    {
      "cell_type": "markdown",
      "metadata": {
        "id": "view-in-github",
        "colab_type": "text"
      },
      "source": [
        "<a href=\"https://colab.research.google.com/github/ShahKhalid1234/Python/blob/main/createclass.ipynb\" target=\"_parent\"><img src=\"https://colab.research.google.com/assets/colab-badge.svg\" alt=\"Open In Colab\"/></a>"
      ]
    },
    {
      "cell_type": "code",
      "execution_count": 32,
      "metadata": {
        "id": "Y99PdmynFxvs"
      },
      "outputs": [],
      "source": [
        "#creating and accessing class\n",
        "class Employee:\n",
        "  def __init__(self,dept,id):\n",
        "    self.dept=dept\n",
        "    self.id=id\n",
        "  def say_hi(self):\n",
        "    print('your department and id is' ,self.dept,self.id)\n"
      ]
    },
    {
      "cell_type": "code",
      "source": [
        "candidate=Employee('Computer',45)"
      ],
      "metadata": {
        "id": "KECIQ0F_GT3h"
      },
      "execution_count": 33,
      "outputs": []
    },
    {
      "cell_type": "code",
      "source": [
        "print(candidate.id)"
      ],
      "metadata": {
        "colab": {
          "base_uri": "https://localhost:8080/"
        },
        "id": "4qILAQcHKNTr",
        "outputId": "96dad553-ce93-4396-e500-1a3875d5933e"
      },
      "execution_count": 38,
      "outputs": [
        {
          "output_type": "stream",
          "name": "stdout",
          "text": [
            "45\n"
          ]
        }
      ]
    },
    {
      "cell_type": "code",
      "source": [
        "print(candidate.dept)"
      ],
      "metadata": {
        "colab": {
          "base_uri": "https://localhost:8080/"
        },
        "id": "YGk7uUObMM0e",
        "outputId": "17b480a2-66ec-4d4c-a812-5d00e83c4ef5"
      },
      "execution_count": 39,
      "outputs": [
        {
          "output_type": "stream",
          "name": "stdout",
          "text": [
            "Computer\n"
          ]
        }
      ]
    },
    {
      "cell_type": "code",
      "source": [
        "candidate.say_hi()"
      ],
      "metadata": {
        "colab": {
          "base_uri": "https://localhost:8080/"
        },
        "id": "KSjBXtlrNM5E",
        "outputId": "d0da022e-10ea-414a-ef96-6c35a8825038"
      },
      "execution_count": 43,
      "outputs": [
        {
          "output_type": "stream",
          "name": "stdout",
          "text": [
            "your department and id is Computer 45\n"
          ]
        }
      ]
    },
    {
      "cell_type": "code",
      "source": [
        "b=Employee('eng',7)\n",
        "c=Employee('urd',8)\n",
        "c.say_hi()"
      ],
      "metadata": {
        "colab": {
          "base_uri": "https://localhost:8080/"
        },
        "id": "9Gnl7Go6NYgm",
        "outputId": "005cc62c-4eb0-43bf-8f06-94f237d2645d"
      },
      "execution_count": 45,
      "outputs": [
        {
          "output_type": "stream",
          "name": "stdout",
          "text": [
            "your department and id is urd 8\n"
          ]
        }
      ]
    },
    {
      "cell_type": "code",
      "source": [
        "b.say_hi()"
      ],
      "metadata": {
        "colab": {
          "base_uri": "https://localhost:8080/"
        },
        "id": "5dnIqz88OOIg",
        "outputId": "1406457b-3f1f-4fb1-a92e-5e89aef1962f"
      },
      "execution_count": 47,
      "outputs": [
        {
          "output_type": "stream",
          "name": "stdout",
          "text": [
            "your department and id is eng 7\n"
          ]
        }
      ]
    },
    {
      "cell_type": "code",
      "source": [
        "print(b.id)"
      ],
      "metadata": {
        "colab": {
          "base_uri": "https://localhost:8080/"
        },
        "id": "VTlBUrAwOawG",
        "outputId": "1a1b3dbc-18cc-485b-d3dd-6444582f6715"
      },
      "execution_count": 48,
      "outputs": [
        {
          "output_type": "stream",
          "name": "stdout",
          "text": [
            "7\n"
          ]
        }
      ]
    },
    {
      "cell_type": "code",
      "source": [],
      "metadata": {
        "id": "yItgs-vPUclu"
      },
      "execution_count": null,
      "outputs": []
    }
  ]
}